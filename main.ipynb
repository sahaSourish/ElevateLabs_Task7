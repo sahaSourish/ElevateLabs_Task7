{
 "cells": [
  {
   "cell_type": "markdown",
   "id": "aba1be72-3a07-4e8e-aea4-8394059512fc",
   "metadata": {},
   "source": [
    "# Importing required libraries"
   ]
  },
  {
   "cell_type": "code",
   "execution_count": 1,
   "id": "26122445-a22b-4939-9395-e41e660cb50a",
   "metadata": {},
   "outputs": [],
   "source": [
    "import sqlite3\n",
    "import pandas as pd\n",
    "import matplotlib.pyplot as plt"
   ]
  },
  {
   "cell_type": "markdown",
   "id": "0404872b-f197-4e03-9d69-0d956be555ab",
   "metadata": {},
   "source": [
    "# Creating and connecting the Database"
   ]
  },
  {
   "cell_type": "code",
   "execution_count": 2,
   "id": "4bfa8572-f33a-42b1-878f-15b0b963bc83",
   "metadata": {},
   "outputs": [],
   "source": [
    "conn = sqlite3.connect(\"sales_data.db\")\n",
    "cursor = conn.cursor()"
   ]
  },
  {
   "cell_type": "markdown",
   "id": "495ecc4e-2cea-4c32-8a59-265491c4197b",
   "metadata": {},
   "source": [
    "# Creating Sales Table"
   ]
  },
  {
   "cell_type": "code",
   "execution_count": 3,
   "id": "2f90cc32-ad0c-435b-baab-d7c820bee8f9",
   "metadata": {},
   "outputs": [
    {
     "data": {
      "text/plain": [
       "<sqlite3.Cursor at 0x24cc7c38140>"
      ]
     },
     "execution_count": 3,
     "metadata": {},
     "output_type": "execute_result"
    }
   ],
   "source": [
    "cursor.execute(\"\"\"\n",
    "CREATE TABLE IF NOT EXISTS sales (\n",
    "    product TEXT,\n",
    "    quantity INTEGER,\n",
    "    price REAL,\n",
    "    date TEXT\n",
    ")\n",
    "\"\"\")"
   ]
  },
  {
   "cell_type": "markdown",
   "id": "7d01121a-9c9b-40ac-b259-6b2873b544d6",
   "metadata": {},
   "source": [
    "# Inserting sample data into the table"
   ]
  },
  {
   "cell_type": "code",
   "execution_count": 4,
   "id": "d6cb7cee-a015-45d5-bc46-4b03e03ffd19",
   "metadata": {},
   "outputs": [],
   "source": [
    "# Sample: (product name, quantity sold, price per unit, sale date)\n",
    "sample_data = [\n",
    "    (\"Apple\", 10, 15, \"2024-01-10\"),\n",
    "    (\"Banana\", 20, 5, \"2024-01-11\"),\n",
    "    (\"Orange\", 15, 8, \"2024-01-11\"),\n",
    "    (\"Apple\", 5, 15, \"2024-01-12\"),\n",
    "    (\"Banana\", 10, 5, \"2024-01-12\"),\n",
    "    (\"Orange\", 10, 8, \"2024-01-12\"),\n",
    "    (\"Mango\", 8, 2, \"2024-01-13\"),\n",
    "    (\"Mango\", 5, 2, \"2024-01-13\")\n",
    "]\n",
    "\n",
    "cursor.executemany(\"INSERT INTO sales (product, quantity, price, date) VALUES (?, ?, ?, ?)\", sample_data)\n",
    "conn.commit()"
   ]
  },
  {
   "cell_type": "markdown",
   "id": "33de1ea7-3583-47ff-b47c-e502c66caaf9",
   "metadata": {},
   "source": [
    "# Queries"
   ]
  },
  {
   "cell_type": "markdown",
   "id": "febeef5e-c4de-48ee-87d2-484bb7b8e3d1",
   "metadata": {},
   "source": [
    "## Query 1"
   ]
  },
  {
   "cell_type": "code",
   "execution_count": 5,
   "id": "14982d5b-ff3e-43d4-9f55-f0669649af33",
   "metadata": {},
   "outputs": [
    {
     "name": "stdout",
     "output_type": "stream",
     "text": [
      "Total Quantity and Revenue by Product:\n",
      "\n",
      "  product  total_quantity  total_revenue\n",
      "0   Apple              75         1125.0\n",
      "1  Banana             150          750.0\n",
      "2   Mango              65          130.0\n",
      "3  Orange             125         1000.0\n"
     ]
    }
   ],
   "source": [
    "# Query 1 - Basic summary (total quantity and revenue by product)\n",
    "query1 = \"\"\"\n",
    "SELECT product, \n",
    "       SUM(quantity) AS total_quantity, \n",
    "       SUM(quantity * price) AS total_revenue \n",
    "FROM sales \n",
    "GROUP BY product\n",
    "\"\"\"\n",
    "df1 = pd.read_sql_query(query1, conn)\n",
    "print(\"Total Quantity and Revenue by Product:\\n\")\n",
    "print(df1)"
   ]
  },
  {
   "cell_type": "code",
   "execution_count": 6,
   "id": "e3e0b11c-d867-423a-8ecc-d8d2a7284254",
   "metadata": {},
   "outputs": [
    {
     "data": {
      "image/png": "[encoded data removed]",
      "text/plain": [
       "<Figure size 640x480 with 1 Axes>"
      ]
     },
     "metadata": {},
     "output_type": "display_data"
    }
   ],
   "source": [
    "# Plot revenue bar chart\n",
    "df1.plot(kind='bar', x='product', y='total_revenue', legend=False, color='skyblue')\n",
    "plt.title('Revenue by Product')\n",
    "plt.ylabel('Revenue ($)')\n",
    "plt.xlabel('Product')\n",
    "plt.tight_layout()\n",
    "plt.show()"
   ]
  },
  {
   "cell_type": "markdown",
   "id": "4fe80017-98b1-4f2f-894f-654e31af3216",
   "metadata": {},
   "source": [
    "## Query 2"
   ]
  },
  {
   "cell_type": "code",
   "execution_count": 7,
   "id": "7ca891fe-3f24-4234-a293-5ece4432dc9a",
   "metadata": {},
   "outputs": [
    {
     "name": "stdout",
     "output_type": "stream",
     "text": [
      "\n",
      "Total Revenue by Date:\n",
      "\n",
      "         date  daily_revenue\n",
      "0  2024-01-10          750.0\n",
      "1  2024-01-11         1100.0\n",
      "2  2024-01-12         1025.0\n",
      "3  2024-01-13          130.0\n"
     ]
    }
   ],
   "source": [
    "# Show total sales (revenue) per day\n",
    "query2 = \"\"\"\n",
    "SELECT date, \n",
    "       SUM(quantity * price) AS daily_revenue \n",
    "FROM sales \n",
    "GROUP BY date\n",
    "\"\"\"\n",
    "df2 = pd.read_sql_query(query2, conn)\n",
    "print(\"\\nTotal Revenue by Date:\\n\")\n",
    "print(df2)"
   ]
  },
  {
   "cell_type": "markdown",
   "id": "b66e9619-4a4a-456b-821f-4e70837183b3",
   "metadata": {},
   "source": [
    "## Query 3"
   ]
  },
  {
   "cell_type": "code",
   "execution_count": 8,
   "id": "16e0e761-652a-469d-a9f9-8f157b24279b",
   "metadata": {},
   "outputs": [
    {
     "name": "stdout",
     "output_type": "stream",
     "text": [
      "\n",
      "All Mango Sales Records:\n",
      "\n",
      "  product  quantity  price        date\n",
      "0   Mango         8    2.0  2024-01-13\n",
      "1   Mango         5    2.0  2024-01-13\n",
      "2   Mango         8    2.0  2024-01-13\n",
      "3   Mango         5    2.0  2024-01-13\n",
      "4   Mango         8    2.0  2024-01-13\n",
      "5   Mango         5    2.0  2024-01-13\n",
      "6   Mango         8    2.0  2024-01-13\n",
      "7   Mango         5    2.0  2024-01-13\n",
      "8   Mango         8    2.0  2024-01-13\n",
      "9   Mango         5    2.0  2024-01-13\n"
     ]
    }
   ],
   "source": [
    "# List all sales of Mango\n",
    "query3 = \"SELECT * FROM sales WHERE product = 'Mango'\"\n",
    "df3 = pd.read_sql_query(query3, conn)\n",
    "print(\"\\nAll Mango Sales Records:\\n\")\n",
    "print(df3)"
   ]
  },
  {
   "cell_type": "markdown",
   "id": "15383ad0-dee5-4dfb-8b47-90cc819d26cf",
   "metadata": {},
   "source": [
    "## Query 4"
   ]
  },
  {
   "cell_type": "code",
   "execution_count": 9,
   "id": "295c5f28-ac0c-4b5a-8a03-827ccb318447",
   "metadata": {},
   "outputs": [
    {
     "name": "stdout",
     "output_type": "stream",
     "text": [
      "\n",
      "Total Number of Sales Records:\n",
      "\n",
      "   total_sales\n",
      "0           40\n"
     ]
    }
   ],
   "source": [
    "# Total number of sales records\n",
    "query4 = \"SELECT COUNT(*) as total_sales FROM sales\"\n",
    "df4 = pd.read_sql_query(query4, conn)\n",
    "print(\"\\nTotal Number of Sales Records:\\n\")\n",
    "print(df4)"
   ]
  },
  {
   "cell_type": "markdown",
   "id": "26085be4-9720-42aa-bb8f-36bd86d1f044",
   "metadata": {},
   "source": [
    "## Query 5"
   ]
  },
  {
   "cell_type": "code",
   "execution_count": 10,
   "id": "36061926-2e2c-4b73-80b3-73c486c792e1",
   "metadata": {},
   "outputs": [
    {
     "name": "stdout",
     "output_type": "stream",
     "text": [
      "\n",
      "Average Price per Product:\n",
      "\n",
      "  product  average_price\n",
      "0   Apple           15.0\n",
      "1  Banana            5.0\n",
      "2   Mango            2.0\n",
      "3  Orange            8.0\n"
     ]
    }
   ],
   "source": [
    "# Average price of each product\n",
    "query5 = \"\"\"\n",
    "SELECT product, \n",
    "       ROUND(AVG(price), 2) AS average_price \n",
    "FROM sales \n",
    "GROUP BY product\n",
    "\"\"\"\n",
    "df5 = pd.read_sql_query(query5, conn)\n",
    "print(\"\\nAverage Price per Product:\\n\")\n",
    "print(df5)"
   ]
  },
  {
   "cell_type": "markdown",
   "id": "b2b222e8-1b8d-4205-860f-19593ee235f8",
   "metadata": {},
   "source": [
    "# Closing the connection"
   ]
  },
  {
   "cell_type": "code",
   "execution_count": 11,
   "id": "24b853ff-9eee-4369-95e0-35a7f972d54c",
   "metadata": {},
   "outputs": [],
   "source": [
    "conn.close()"
   ]
  },
  {
   "cell_type": "code",
   "execution_count": null,
   "id": "f2b0387a-bd77-4870-8567-02713f426c8a",
   "metadata": {},
   "outputs": [],
   "source": []
  }
 ],
 "metadata": {
  "kernelspec": {
   "display_name": "Python 3 (ipykernel)",
   "language": "python",
   "name": "python3"
  },
  "language_info": {
   "codemirror_mode": {
    "name": "ipython",
    "version": 3
   },
   "file_extension": ".py",
   "mimetype": "text/x-python",
   "name": "python",
   "nbconvert_exporter": "python",
   "pygments_lexer": "ipython3",
   "version": "3.12.7"
  }
 },
 "nbformat": 4,
 "nbformat_minor": 5
}
